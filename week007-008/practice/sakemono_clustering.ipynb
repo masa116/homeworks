{
 "cells": [
  {
   "cell_type": "markdown",
   "metadata": {},
   "source": [
    "# 酸度と日本酒度による日本酒の分類"
   ]
  },
  {
   "cell_type": "markdown",
   "metadata": {},
   "source": [
    "## 1.日本酒物語のサイトから日本酒データをスクレイピング"
   ]
  },
  {
   "cell_type": "markdown",
   "metadata": {},
   "source": [
    "https://www.sakeno.com/"
   ]
  },
  {
   "cell_type": "markdown",
   "metadata": {},
   "source": [
    "# 2.取ってきたデータをクレンジング(割愛)"
   ]
  },
  {
   "cell_type": "markdown",
   "metadata": {},
   "source": [
    "# 3.クレンジングしたデータを分析"
   ]
  },
  {
   "cell_type": "markdown",
   "metadata": {},
   "source": [
    "## ライブラリをインポート"
   ]
  },
  {
   "cell_type": "code",
   "execution_count": 122,
   "metadata": {
    "collapsed": true
   },
   "outputs": [],
   "source": [
    "%matplotlib inline\n",
    "import numpy as np\n",
    "import pandas as pd\n",
    "from matplotlib import pyplot as plt\n",
    "from sklearn.cluster import KMeans\n",
    "from sklearn.preprocessing import StandardScaler\n",
    "import MeCab"
   ]
  },
  {
   "cell_type": "code",
   "execution_count": 2,
   "metadata": {
    "collapsed": true
   },
   "outputs": [],
   "source": [
    "sd = pd.read_csv(\"../data/sakemonogatari/sake_data.csv\")"
   ]
  },
  {
   "cell_type": "code",
   "execution_count": 3,
   "metadata": {},
   "outputs": [
    {
     "data": {
      "text/html": [
       "<div>\n",
       "<style>\n",
       "    .dataframe thead tr:only-child th {\n",
       "        text-align: right;\n",
       "    }\n",
       "\n",
       "    .dataframe thead th {\n",
       "        text-align: left;\n",
       "    }\n",
       "\n",
       "    .dataframe tbody tr th {\n",
       "        vertical-align: top;\n",
       "    }\n",
       "</style>\n",
       "<table border=\"1\" class=\"dataframe\">\n",
       "  <thead>\n",
       "    <tr style=\"text-align: right;\">\n",
       "      <th></th>\n",
       "      <th>sakecode</th>\n",
       "      <th>sakename</th>\n",
       "      <th>meigaracode</th>\n",
       "      <th>syurui</th>\n",
       "      <th>genryoumai</th>\n",
       "      <th>seimaibuai</th>\n",
       "      <th>nihonsyudo</th>\n",
       "      <th>sando</th>\n",
       "      <th>aminosando</th>\n",
       "      <th>amakardo</th>\n",
       "      <th>noutando</th>\n",
       "      <th>alcohol</th>\n",
       "    </tr>\n",
       "  </thead>\n",
       "  <tbody>\n",
       "    <tr>\n",
       "      <th>0</th>\n",
       "      <td>3315</td>\n",
       "      <td>京極 原酒</td>\n",
       "      <td>1235</td>\n",
       "      <td>本醸造 原酒</td>\n",
       "      <td>NaN</td>\n",
       "      <td>NaN</td>\n",
       "      <td>4.0</td>\n",
       "      <td>1.8</td>\n",
       "      <td>NaN</td>\n",
       "      <td>-0.87</td>\n",
       "      <td>0.18</td>\n",
       "      <td>20.0</td>\n",
       "    </tr>\n",
       "    <tr>\n",
       "      <th>1</th>\n",
       "      <td>3317</td>\n",
       "      <td>京極 名水 純米造り</td>\n",
       "      <td>1235</td>\n",
       "      <td>純米酒</td>\n",
       "      <td>トヨニシキ、キヨニシキ（秋田県産）</td>\n",
       "      <td>55.0</td>\n",
       "      <td>3.0</td>\n",
       "      <td>1.4</td>\n",
       "      <td>NaN</td>\n",
       "      <td>-0.31</td>\n",
       "      <td>-0.52</td>\n",
       "      <td>15.5</td>\n",
       "    </tr>\n",
       "    <tr>\n",
       "      <th>2</th>\n",
       "      <td>3318</td>\n",
       "      <td>京極 名水 辛口</td>\n",
       "      <td>1235</td>\n",
       "      <td>本醸造</td>\n",
       "      <td>NaN</td>\n",
       "      <td>NaN</td>\n",
       "      <td>6.0</td>\n",
       "      <td>1.4</td>\n",
       "      <td>NaN</td>\n",
       "      <td>-0.59</td>\n",
       "      <td>-0.66</td>\n",
       "      <td>15.5</td>\n",
       "    </tr>\n",
       "  </tbody>\n",
       "</table>\n",
       "</div>"
      ],
      "text/plain": [
       "   sakecode    sakename  meigaracode  syurui         genryoumai  seimaibuai  \\\n",
       "0      3315       京極 原酒         1235  本醸造 原酒                NaN         NaN   \n",
       "1      3317  京極 名水 純米造り         1235     純米酒  トヨニシキ、キヨニシキ（秋田県産）        55.0   \n",
       "2      3318    京極 名水 辛口         1235     本醸造                NaN         NaN   \n",
       "\n",
       "   nihonsyudo  sando  aminosando  amakardo  noutando  alcohol  \n",
       "0         4.0    1.8         NaN     -0.87      0.18     20.0  \n",
       "1         3.0    1.4         NaN     -0.31     -0.52     15.5  \n",
       "2         6.0    1.4         NaN     -0.59     -0.66     15.5  "
      ]
     },
     "execution_count": 3,
     "metadata": {},
     "output_type": "execute_result"
    }
   ],
   "source": [
    "sd.head(3)"
   ]
  },
  {
   "cell_type": "markdown",
   "metadata": {},
   "source": [
    "## 酒の名前、日本酒度、酸度のみを抽出"
   ]
  },
  {
   "cell_type": "code",
   "execution_count": 79,
   "metadata": {
    "collapsed": true
   },
   "outputs": [],
   "source": [
    "sd2 = sd[['sakename','syurui','seimaibuai','alcohol','nihonsyudo', 'sando']]"
   ]
  },
  {
   "cell_type": "code",
   "execution_count": 80,
   "metadata": {},
   "outputs": [
    {
     "data": {
      "text/html": [
       "<div>\n",
       "<style>\n",
       "    .dataframe thead tr:only-child th {\n",
       "        text-align: right;\n",
       "    }\n",
       "\n",
       "    .dataframe thead th {\n",
       "        text-align: left;\n",
       "    }\n",
       "\n",
       "    .dataframe tbody tr th {\n",
       "        vertical-align: top;\n",
       "    }\n",
       "</style>\n",
       "<table border=\"1\" class=\"dataframe\">\n",
       "  <thead>\n",
       "    <tr style=\"text-align: right;\">\n",
       "      <th></th>\n",
       "      <th>sakename</th>\n",
       "      <th>syurui</th>\n",
       "      <th>seimaibuai</th>\n",
       "      <th>alcohol</th>\n",
       "      <th>nihonsyudo</th>\n",
       "      <th>sando</th>\n",
       "    </tr>\n",
       "  </thead>\n",
       "  <tbody>\n",
       "    <tr>\n",
       "      <th>0</th>\n",
       "      <td>京極 原酒</td>\n",
       "      <td>本醸造 原酒</td>\n",
       "      <td>NaN</td>\n",
       "      <td>20.0</td>\n",
       "      <td>4.0</td>\n",
       "      <td>1.8</td>\n",
       "    </tr>\n",
       "    <tr>\n",
       "      <th>1</th>\n",
       "      <td>京極 名水 純米造り</td>\n",
       "      <td>純米酒</td>\n",
       "      <td>55.0</td>\n",
       "      <td>15.5</td>\n",
       "      <td>3.0</td>\n",
       "      <td>1.4</td>\n",
       "    </tr>\n",
       "    <tr>\n",
       "      <th>2</th>\n",
       "      <td>京極 名水 辛口</td>\n",
       "      <td>本醸造</td>\n",
       "      <td>NaN</td>\n",
       "      <td>15.5</td>\n",
       "      <td>6.0</td>\n",
       "      <td>1.4</td>\n",
       "    </tr>\n",
       "    <tr>\n",
       "      <th>3</th>\n",
       "      <td>京極 名水 本造り</td>\n",
       "      <td>本醸造</td>\n",
       "      <td>60.0</td>\n",
       "      <td>15.3</td>\n",
       "      <td>4.0</td>\n",
       "      <td>1.8</td>\n",
       "    </tr>\n",
       "    <tr>\n",
       "      <th>4</th>\n",
       "      <td>京極 カップ</td>\n",
       "      <td>NaN</td>\n",
       "      <td>NaN</td>\n",
       "      <td>15.0</td>\n",
       "      <td>4.0</td>\n",
       "      <td>1.8</td>\n",
       "    </tr>\n",
       "    <tr>\n",
       "      <th>5</th>\n",
       "      <td>二世古 原酒 大吟醸</td>\n",
       "      <td>原酒 大吟醸</td>\n",
       "      <td>45.0</td>\n",
       "      <td>17.5</td>\n",
       "      <td>3.0</td>\n",
       "      <td>NaN</td>\n",
       "    </tr>\n",
       "    <tr>\n",
       "      <th>6</th>\n",
       "      <td>二世古 吟醸酒</td>\n",
       "      <td>吟醸酒</td>\n",
       "      <td>NaN</td>\n",
       "      <td>17.5</td>\n",
       "      <td>NaN</td>\n",
       "      <td>NaN</td>\n",
       "    </tr>\n",
       "    <tr>\n",
       "      <th>7</th>\n",
       "      <td>二世古 純米 原酒</td>\n",
       "      <td>純米 原酒</td>\n",
       "      <td>NaN</td>\n",
       "      <td>17.5</td>\n",
       "      <td>NaN</td>\n",
       "      <td>NaN</td>\n",
       "    </tr>\n",
       "    <tr>\n",
       "      <th>8</th>\n",
       "      <td>二世古 蝦夷 鬼ころし 原酒</td>\n",
       "      <td>原酒</td>\n",
       "      <td>NaN</td>\n",
       "      <td>20.5</td>\n",
       "      <td>NaN</td>\n",
       "      <td>NaN</td>\n",
       "    </tr>\n",
       "    <tr>\n",
       "      <th>9</th>\n",
       "      <td>二世古 純米酒</td>\n",
       "      <td>純米酒</td>\n",
       "      <td>55.0</td>\n",
       "      <td>15.5</td>\n",
       "      <td>3.0</td>\n",
       "      <td>1.4</td>\n",
       "    </tr>\n",
       "  </tbody>\n",
       "</table>\n",
       "</div>"
      ],
      "text/plain": [
       "         sakename  syurui  seimaibuai  alcohol  nihonsyudo  sando\n",
       "0           京極 原酒  本醸造 原酒         NaN     20.0         4.0    1.8\n",
       "1      京極 名水 純米造り     純米酒        55.0     15.5         3.0    1.4\n",
       "2        京極 名水 辛口     本醸造         NaN     15.5         6.0    1.4\n",
       "3       京極 名水 本造り     本醸造        60.0     15.3         4.0    1.8\n",
       "4          京極 カップ     NaN         NaN     15.0         4.0    1.8\n",
       "5      二世古 原酒 大吟醸  原酒 大吟醸        45.0     17.5         3.0    NaN\n",
       "6         二世古 吟醸酒     吟醸酒         NaN     17.5         NaN    NaN\n",
       "7       二世古 純米 原酒   純米 原酒         NaN     17.5         NaN    NaN\n",
       "8  二世古 蝦夷 鬼ころし 原酒      原酒         NaN     20.5         NaN    NaN\n",
       "9         二世古 純米酒     純米酒        55.0     15.5         3.0    1.4"
      ]
     },
     "execution_count": 80,
     "metadata": {},
     "output_type": "execute_result"
    }
   ],
   "source": [
    "sd2.head(10)"
   ]
  },
  {
   "cell_type": "markdown",
   "metadata": {},
   "source": [
    "# 欠損値NaNを削除"
   ]
  },
  {
   "cell_type": "code",
   "execution_count": 81,
   "metadata": {
    "collapsed": true
   },
   "outputs": [],
   "source": [
    "sd3 = sd2.dropna()"
   ]
  },
  {
   "cell_type": "code",
   "execution_count": 82,
   "metadata": {},
   "outputs": [
    {
     "name": "stdout",
     "output_type": "stream",
     "text": [
      "<class 'pandas.core.frame.DataFrame'>\n",
      "Int64Index: 4348 entries, 1 to 9205\n",
      "Data columns (total 6 columns):\n",
      "sakename      4348 non-null object\n",
      "syurui        4348 non-null object\n",
      "seimaibuai    4348 non-null float64\n",
      "alcohol       4348 non-null float64\n",
      "nihonsyudo    4348 non-null float64\n",
      "sando         4348 non-null float64\n",
      "dtypes: float64(4), object(2)\n",
      "memory usage: 237.8+ KB\n"
     ]
    }
   ],
   "source": [
    "sd3.info()"
   ]
  },
  {
   "cell_type": "markdown",
   "metadata": {},
   "source": [
    "# indexを振り直す"
   ]
  },
  {
   "cell_type": "code",
   "execution_count": 83,
   "metadata": {
    "collapsed": true
   },
   "outputs": [],
   "source": [
    "sd3_2 = sd3.reset_index(drop=True)"
   ]
  },
  {
   "cell_type": "code",
   "execution_count": 84,
   "metadata": {},
   "outputs": [
    {
     "name": "stdout",
     "output_type": "stream",
     "text": [
      "<class 'pandas.core.frame.DataFrame'>\n",
      "RangeIndex: 4348 entries, 0 to 4347\n",
      "Data columns (total 6 columns):\n",
      "sakename      4348 non-null object\n",
      "syurui        4348 non-null object\n",
      "seimaibuai    4348 non-null float64\n",
      "alcohol       4348 non-null float64\n",
      "nihonsyudo    4348 non-null float64\n",
      "sando         4348 non-null float64\n",
      "dtypes: float64(4), object(2)\n",
      "memory usage: 203.9+ KB\n"
     ]
    }
   ],
   "source": [
    "sd3_2.info()"
   ]
  },
  {
   "cell_type": "markdown",
   "metadata": {},
   "source": [
    "# NaNがあるかどうかを確認"
   ]
  },
  {
   "cell_type": "code",
   "execution_count": 85,
   "metadata": {},
   "outputs": [
    {
     "data": {
      "text/plain": [
       "sakename      False\n",
       "syurui        False\n",
       "seimaibuai    False\n",
       "alcohol       False\n",
       "nihonsyudo    False\n",
       "sando         False\n",
       "dtype: bool"
      ]
     },
     "execution_count": 85,
     "metadata": {},
     "output_type": "execute_result"
    }
   ],
   "source": [
    "sd3_2.isnull().any()"
   ]
  },
  {
   "cell_type": "markdown",
   "metadata": {},
   "source": [
    "# 数値データを標準化する"
   ]
  },
  {
   "cell_type": "code",
   "execution_count": 86,
   "metadata": {
    "collapsed": true
   },
   "outputs": [],
   "source": [
    "sc = StandardScaler()"
   ]
  },
  {
   "cell_type": "markdown",
   "metadata": {},
   "source": [
    "# fitでパラメータ計算"
   ]
  },
  {
   "cell_type": "code",
   "execution_count": 87,
   "metadata": {},
   "outputs": [
    {
     "data": {
      "text/plain": [
       "StandardScaler(copy=True, with_mean=True, with_std=True)"
      ]
     },
     "execution_count": 87,
     "metadata": {},
     "output_type": "execute_result"
    }
   ],
   "source": [
    "sc.fit(sd3_2.iloc[:,-2:])"
   ]
  },
  {
   "cell_type": "markdown",
   "metadata": {},
   "source": [
    "# fit_transformでパラメータをもとにデータ変換"
   ]
  },
  {
   "cell_type": "code",
   "execution_count": 88,
   "metadata": {
    "collapsed": true
   },
   "outputs": [],
   "source": [
    "df_tmp = pd.DataFrame(sc.transform(sd3_2.iloc[:,-2:]))"
   ]
  },
  {
   "cell_type": "code",
   "execution_count": 89,
   "metadata": {
    "collapsed": true
   },
   "outputs": [],
   "source": [
    "df_tmp.rename(columns={0:'s_nihonsyudo', 1:'s_sando'}, inplace=True)"
   ]
  },
  {
   "cell_type": "code",
   "execution_count": 90,
   "metadata": {},
   "outputs": [
    {
     "data": {
      "text/html": [
       "<div>\n",
       "<style>\n",
       "    .dataframe thead tr:only-child th {\n",
       "        text-align: right;\n",
       "    }\n",
       "\n",
       "    .dataframe thead th {\n",
       "        text-align: left;\n",
       "    }\n",
       "\n",
       "    .dataframe tbody tr th {\n",
       "        vertical-align: top;\n",
       "    }\n",
       "</style>\n",
       "<table border=\"1\" class=\"dataframe\">\n",
       "  <thead>\n",
       "    <tr style=\"text-align: right;\">\n",
       "      <th></th>\n",
       "      <th>s_nihonsyudo</th>\n",
       "      <th>s_sando</th>\n",
       "    </tr>\n",
       "  </thead>\n",
       "  <tbody>\n",
       "    <tr>\n",
       "      <th>0</th>\n",
       "      <td>0.067416</td>\n",
       "      <td>-0.265431</td>\n",
       "    </tr>\n",
       "    <tr>\n",
       "      <th>1</th>\n",
       "      <td>0.230698</td>\n",
       "      <td>0.712697</td>\n",
       "    </tr>\n",
       "    <tr>\n",
       "      <th>2</th>\n",
       "      <td>0.067416</td>\n",
       "      <td>-0.265431</td>\n",
       "    </tr>\n",
       "    <tr>\n",
       "      <th>3</th>\n",
       "      <td>0.230698</td>\n",
       "      <td>-0.754494</td>\n",
       "    </tr>\n",
       "    <tr>\n",
       "      <th>4</th>\n",
       "      <td>0.557263</td>\n",
       "      <td>-0.509963</td>\n",
       "    </tr>\n",
       "    <tr>\n",
       "      <th>5</th>\n",
       "      <td>0.720546</td>\n",
       "      <td>-0.754494</td>\n",
       "    </tr>\n",
       "    <tr>\n",
       "      <th>6</th>\n",
       "      <td>0.557263</td>\n",
       "      <td>-0.999026</td>\n",
       "    </tr>\n",
       "    <tr>\n",
       "      <th>7</th>\n",
       "      <td>0.230698</td>\n",
       "      <td>-0.754494</td>\n",
       "    </tr>\n",
       "    <tr>\n",
       "      <th>8</th>\n",
       "      <td>0.230698</td>\n",
       "      <td>-0.754494</td>\n",
       "    </tr>\n",
       "    <tr>\n",
       "      <th>9</th>\n",
       "      <td>0.393981</td>\n",
       "      <td>-0.754494</td>\n",
       "    </tr>\n",
       "  </tbody>\n",
       "</table>\n",
       "</div>"
      ],
      "text/plain": [
       "   s_nihonsyudo   s_sando\n",
       "0      0.067416 -0.265431\n",
       "1      0.230698  0.712697\n",
       "2      0.067416 -0.265431\n",
       "3      0.230698 -0.754494\n",
       "4      0.557263 -0.509963\n",
       "5      0.720546 -0.754494\n",
       "6      0.557263 -0.999026\n",
       "7      0.230698 -0.754494\n",
       "8      0.230698 -0.754494\n",
       "9      0.393981 -0.754494"
      ]
     },
     "execution_count": 90,
     "metadata": {},
     "output_type": "execute_result"
    }
   ],
   "source": [
    "df_tmp.head(10)"
   ]
  },
  {
   "cell_type": "code",
   "execution_count": 91,
   "metadata": {},
   "outputs": [
    {
     "name": "stdout",
     "output_type": "stream",
     "text": [
      "<class 'pandas.core.frame.DataFrame'>\n",
      "RangeIndex: 4348 entries, 0 to 4347\n",
      "Data columns (total 2 columns):\n",
      "s_nihonsyudo    4348 non-null float64\n",
      "s_sando         4348 non-null float64\n",
      "dtypes: float64(2)\n",
      "memory usage: 68.0 KB\n"
     ]
    }
   ],
   "source": [
    "df_tmp.info()"
   ]
  },
  {
   "cell_type": "markdown",
   "metadata": {},
   "source": [
    "# 元のデータフレームと結合"
   ]
  },
  {
   "cell_type": "code",
   "execution_count": 92,
   "metadata": {
    "collapsed": true
   },
   "outputs": [],
   "source": [
    "sd4 = pd.concat([sd3_2,df_tmp],axis=1)"
   ]
  },
  {
   "cell_type": "code",
   "execution_count": 93,
   "metadata": {},
   "outputs": [
    {
     "data": {
      "text/html": [
       "<div>\n",
       "<style>\n",
       "    .dataframe thead tr:only-child th {\n",
       "        text-align: right;\n",
       "    }\n",
       "\n",
       "    .dataframe thead th {\n",
       "        text-align: left;\n",
       "    }\n",
       "\n",
       "    .dataframe tbody tr th {\n",
       "        vertical-align: top;\n",
       "    }\n",
       "</style>\n",
       "<table border=\"1\" class=\"dataframe\">\n",
       "  <thead>\n",
       "    <tr style=\"text-align: right;\">\n",
       "      <th></th>\n",
       "      <th>sakename</th>\n",
       "      <th>syurui</th>\n",
       "      <th>seimaibuai</th>\n",
       "      <th>alcohol</th>\n",
       "      <th>nihonsyudo</th>\n",
       "      <th>sando</th>\n",
       "      <th>s_nihonsyudo</th>\n",
       "      <th>s_sando</th>\n",
       "    </tr>\n",
       "  </thead>\n",
       "  <tbody>\n",
       "    <tr>\n",
       "      <th>0</th>\n",
       "      <td>京極 名水 純米造り</td>\n",
       "      <td>純米酒</td>\n",
       "      <td>55.0</td>\n",
       "      <td>15.5</td>\n",
       "      <td>3.0</td>\n",
       "      <td>1.4</td>\n",
       "      <td>0.067416</td>\n",
       "      <td>-0.265431</td>\n",
       "    </tr>\n",
       "    <tr>\n",
       "      <th>1</th>\n",
       "      <td>京極 名水 本造り</td>\n",
       "      <td>本醸造</td>\n",
       "      <td>60.0</td>\n",
       "      <td>15.3</td>\n",
       "      <td>4.0</td>\n",
       "      <td>1.8</td>\n",
       "      <td>0.230698</td>\n",
       "      <td>0.712697</td>\n",
       "    </tr>\n",
       "    <tr>\n",
       "      <th>2</th>\n",
       "      <td>二世古 純米酒</td>\n",
       "      <td>純米酒</td>\n",
       "      <td>55.0</td>\n",
       "      <td>15.5</td>\n",
       "      <td>3.0</td>\n",
       "      <td>1.4</td>\n",
       "      <td>0.067416</td>\n",
       "      <td>-0.265431</td>\n",
       "    </tr>\n",
       "    <tr>\n",
       "      <th>3</th>\n",
       "      <td>柴田 純米吟醸</td>\n",
       "      <td>純米吟醸</td>\n",
       "      <td>55.0</td>\n",
       "      <td>15.5</td>\n",
       "      <td>4.0</td>\n",
       "      <td>1.2</td>\n",
       "      <td>0.230698</td>\n",
       "      <td>-0.754494</td>\n",
       "    </tr>\n",
       "    <tr>\n",
       "      <th>4</th>\n",
       "      <td>柴田 からくち 純米</td>\n",
       "      <td>純米酒</td>\n",
       "      <td>65.0</td>\n",
       "      <td>15.5</td>\n",
       "      <td>6.0</td>\n",
       "      <td>1.3</td>\n",
       "      <td>0.557263</td>\n",
       "      <td>-0.509963</td>\n",
       "    </tr>\n",
       "    <tr>\n",
       "      <th>5</th>\n",
       "      <td>柴田 からくち 本醸造</td>\n",
       "      <td>本醸造</td>\n",
       "      <td>70.0</td>\n",
       "      <td>15.5</td>\n",
       "      <td>7.0</td>\n",
       "      <td>1.2</td>\n",
       "      <td>0.720546</td>\n",
       "      <td>-0.754494</td>\n",
       "    </tr>\n",
       "    <tr>\n",
       "      <th>6</th>\n",
       "      <td>千歳鶴 吉翔</td>\n",
       "      <td>大吟醸</td>\n",
       "      <td>40.0</td>\n",
       "      <td>16.5</td>\n",
       "      <td>6.0</td>\n",
       "      <td>1.1</td>\n",
       "      <td>0.557263</td>\n",
       "      <td>-0.999026</td>\n",
       "    </tr>\n",
       "    <tr>\n",
       "      <th>7</th>\n",
       "      <td>千歳鶴 柴田與次右衛門</td>\n",
       "      <td>純米吟醸</td>\n",
       "      <td>55.0</td>\n",
       "      <td>14.5</td>\n",
       "      <td>4.0</td>\n",
       "      <td>1.2</td>\n",
       "      <td>0.230698</td>\n",
       "      <td>-0.754494</td>\n",
       "    </tr>\n",
       "    <tr>\n",
       "      <th>8</th>\n",
       "      <td>千歳鶴 芳翔</td>\n",
       "      <td>吟醸</td>\n",
       "      <td>55.0</td>\n",
       "      <td>15.5</td>\n",
       "      <td>4.0</td>\n",
       "      <td>1.2</td>\n",
       "      <td>0.230698</td>\n",
       "      <td>-0.754494</td>\n",
       "    </tr>\n",
       "    <tr>\n",
       "      <th>9</th>\n",
       "      <td>千歳鶴 雪原の舞</td>\n",
       "      <td>大吟醸</td>\n",
       "      <td>40.0</td>\n",
       "      <td>15.5</td>\n",
       "      <td>5.0</td>\n",
       "      <td>1.2</td>\n",
       "      <td>0.393981</td>\n",
       "      <td>-0.754494</td>\n",
       "    </tr>\n",
       "  </tbody>\n",
       "</table>\n",
       "</div>"
      ],
      "text/plain": [
       "      sakename syurui  seimaibuai  alcohol  nihonsyudo  sando  s_nihonsyudo  \\\n",
       "0   京極 名水 純米造り    純米酒        55.0     15.5         3.0    1.4      0.067416   \n",
       "1    京極 名水 本造り    本醸造        60.0     15.3         4.0    1.8      0.230698   \n",
       "2      二世古 純米酒    純米酒        55.0     15.5         3.0    1.4      0.067416   \n",
       "3      柴田 純米吟醸   純米吟醸        55.0     15.5         4.0    1.2      0.230698   \n",
       "4   柴田 からくち 純米    純米酒        65.0     15.5         6.0    1.3      0.557263   \n",
       "5  柴田 からくち 本醸造    本醸造        70.0     15.5         7.0    1.2      0.720546   \n",
       "6       千歳鶴 吉翔    大吟醸        40.0     16.5         6.0    1.1      0.557263   \n",
       "7  千歳鶴 柴田與次右衛門   純米吟醸        55.0     14.5         4.0    1.2      0.230698   \n",
       "8       千歳鶴 芳翔     吟醸        55.0     15.5         4.0    1.2      0.230698   \n",
       "9     千歳鶴 雪原の舞    大吟醸        40.0     15.5         5.0    1.2      0.393981   \n",
       "\n",
       "    s_sando  \n",
       "0 -0.265431  \n",
       "1  0.712697  \n",
       "2 -0.265431  \n",
       "3 -0.754494  \n",
       "4 -0.509963  \n",
       "5 -0.754494  \n",
       "6 -0.999026  \n",
       "7 -0.754494  \n",
       "8 -0.754494  \n",
       "9 -0.754494  "
      ]
     },
     "execution_count": 93,
     "metadata": {},
     "output_type": "execute_result"
    }
   ],
   "source": [
    "sd4.head(10)"
   ]
  },
  {
   "cell_type": "code",
   "execution_count": 94,
   "metadata": {},
   "outputs": [
    {
     "name": "stdout",
     "output_type": "stream",
     "text": [
      "<class 'pandas.core.frame.DataFrame'>\n",
      "RangeIndex: 4348 entries, 0 to 4347\n",
      "Data columns (total 8 columns):\n",
      "sakename        4348 non-null object\n",
      "syurui          4348 non-null object\n",
      "seimaibuai      4348 non-null float64\n",
      "alcohol         4348 non-null float64\n",
      "nihonsyudo      4348 non-null float64\n",
      "sando           4348 non-null float64\n",
      "s_nihonsyudo    4348 non-null float64\n",
      "s_sando         4348 non-null float64\n",
      "dtypes: float64(6), object(2)\n",
      "memory usage: 271.8+ KB\n"
     ]
    }
   ],
   "source": [
    "sd4.info()"
   ]
  },
  {
   "cell_type": "markdown",
   "metadata": {},
   "source": [
    "# 4クラスタでk-means法を適用"
   ]
  },
  {
   "cell_type": "code",
   "execution_count": 95,
   "metadata": {
    "collapsed": true
   },
   "outputs": [],
   "source": [
    "km = KMeans(n_clusters=4)"
   ]
  },
  {
   "cell_type": "markdown",
   "metadata": {},
   "source": [
    "# 標準化した日本酒度と酸度を用いる"
   ]
  },
  {
   "cell_type": "code",
   "execution_count": 96,
   "metadata": {},
   "outputs": [
    {
     "data": {
      "text/html": [
       "<div>\n",
       "<style>\n",
       "    .dataframe thead tr:only-child th {\n",
       "        text-align: right;\n",
       "    }\n",
       "\n",
       "    .dataframe thead th {\n",
       "        text-align: left;\n",
       "    }\n",
       "\n",
       "    .dataframe tbody tr th {\n",
       "        vertical-align: top;\n",
       "    }\n",
       "</style>\n",
       "<table border=\"1\" class=\"dataframe\">\n",
       "  <thead>\n",
       "    <tr style=\"text-align: right;\">\n",
       "      <th></th>\n",
       "      <th>s_nihonsyudo</th>\n",
       "      <th>s_sando</th>\n",
       "    </tr>\n",
       "  </thead>\n",
       "  <tbody>\n",
       "    <tr>\n",
       "      <th>0</th>\n",
       "      <td>0.067416</td>\n",
       "      <td>-0.265431</td>\n",
       "    </tr>\n",
       "    <tr>\n",
       "      <th>1</th>\n",
       "      <td>0.230698</td>\n",
       "      <td>0.712697</td>\n",
       "    </tr>\n",
       "    <tr>\n",
       "      <th>2</th>\n",
       "      <td>0.067416</td>\n",
       "      <td>-0.265431</td>\n",
       "    </tr>\n",
       "    <tr>\n",
       "      <th>3</th>\n",
       "      <td>0.230698</td>\n",
       "      <td>-0.754494</td>\n",
       "    </tr>\n",
       "    <tr>\n",
       "      <th>4</th>\n",
       "      <td>0.557263</td>\n",
       "      <td>-0.509963</td>\n",
       "    </tr>\n",
       "    <tr>\n",
       "      <th>5</th>\n",
       "      <td>0.720546</td>\n",
       "      <td>-0.754494</td>\n",
       "    </tr>\n",
       "    <tr>\n",
       "      <th>6</th>\n",
       "      <td>0.557263</td>\n",
       "      <td>-0.999026</td>\n",
       "    </tr>\n",
       "    <tr>\n",
       "      <th>7</th>\n",
       "      <td>0.230698</td>\n",
       "      <td>-0.754494</td>\n",
       "    </tr>\n",
       "    <tr>\n",
       "      <th>8</th>\n",
       "      <td>0.230698</td>\n",
       "      <td>-0.754494</td>\n",
       "    </tr>\n",
       "    <tr>\n",
       "      <th>9</th>\n",
       "      <td>0.393981</td>\n",
       "      <td>-0.754494</td>\n",
       "    </tr>\n",
       "  </tbody>\n",
       "</table>\n",
       "</div>"
      ],
      "text/plain": [
       "   s_nihonsyudo   s_sando\n",
       "0      0.067416 -0.265431\n",
       "1      0.230698  0.712697\n",
       "2      0.067416 -0.265431\n",
       "3      0.230698 -0.754494\n",
       "4      0.557263 -0.509963\n",
       "5      0.720546 -0.754494\n",
       "6      0.557263 -0.999026\n",
       "7      0.230698 -0.754494\n",
       "8      0.230698 -0.754494\n",
       "9      0.393981 -0.754494"
      ]
     },
     "execution_count": 96,
     "metadata": {},
     "output_type": "execute_result"
    }
   ],
   "source": [
    "sd4.iloc[:,-2:].head(10)"
   ]
  },
  {
   "cell_type": "markdown",
   "metadata": {},
   "source": [
    "# クラスタリング実行"
   ]
  },
  {
   "cell_type": "code",
   "execution_count": 97,
   "metadata": {},
   "outputs": [
    {
     "data": {
      "text/plain": [
       "KMeans(algorithm='auto', copy_x=True, init='k-means++', max_iter=300,\n",
       "    n_clusters=4, n_init=10, n_jobs=1, precompute_distances='auto',\n",
       "    random_state=None, tol=0.0001, verbose=0)"
      ]
     },
     "execution_count": 97,
     "metadata": {},
     "output_type": "execute_result"
    }
   ],
   "source": [
    "km.fit(sd4.iloc[:,-2:])"
   ]
  },
  {
   "cell_type": "markdown",
   "metadata": {},
   "source": [
    "# 4クラスタそれぞれの重心の確認"
   ]
  },
  {
   "cell_type": "code",
   "execution_count": 98,
   "metadata": {},
   "outputs": [
    {
     "data": {
      "text/plain": [
       "array([[ 0.11799481, -0.41893665],\n",
       "       [-3.98198851,  1.40691856],\n",
       "       [ 0.07309637,  0.66044711],\n",
       "       [-8.56614297,  8.16072959]])"
      ]
     },
     "execution_count": 98,
     "metadata": {},
     "output_type": "execute_result"
    }
   ],
   "source": [
    "km.cluster_centers_"
   ]
  },
  {
   "cell_type": "markdown",
   "metadata": {},
   "source": [
    "## 各データが所属するクラスタ番号をデータフレームに格納"
   ]
  },
  {
   "cell_type": "code",
   "execution_count": 99,
   "metadata": {
    "collapsed": true
   },
   "outputs": [],
   "source": [
    "sd4['cluster'] = km.labels_"
   ]
  },
  {
   "cell_type": "code",
   "execution_count": 100,
   "metadata": {},
   "outputs": [
    {
     "data": {
      "text/html": [
       "<div>\n",
       "<style>\n",
       "    .dataframe thead tr:only-child th {\n",
       "        text-align: right;\n",
       "    }\n",
       "\n",
       "    .dataframe thead th {\n",
       "        text-align: left;\n",
       "    }\n",
       "\n",
       "    .dataframe tbody tr th {\n",
       "        vertical-align: top;\n",
       "    }\n",
       "</style>\n",
       "<table border=\"1\" class=\"dataframe\">\n",
       "  <thead>\n",
       "    <tr style=\"text-align: right;\">\n",
       "      <th></th>\n",
       "      <th>sakename</th>\n",
       "      <th>syurui</th>\n",
       "      <th>seimaibuai</th>\n",
       "      <th>alcohol</th>\n",
       "      <th>nihonsyudo</th>\n",
       "      <th>sando</th>\n",
       "      <th>s_nihonsyudo</th>\n",
       "      <th>s_sando</th>\n",
       "      <th>cluster</th>\n",
       "    </tr>\n",
       "  </thead>\n",
       "  <tbody>\n",
       "    <tr>\n",
       "      <th>0</th>\n",
       "      <td>京極 名水 純米造り</td>\n",
       "      <td>純米酒</td>\n",
       "      <td>55.0</td>\n",
       "      <td>15.5</td>\n",
       "      <td>3.0</td>\n",
       "      <td>1.4</td>\n",
       "      <td>0.067416</td>\n",
       "      <td>-0.265431</td>\n",
       "      <td>0</td>\n",
       "    </tr>\n",
       "    <tr>\n",
       "      <th>1</th>\n",
       "      <td>京極 名水 本造り</td>\n",
       "      <td>本醸造</td>\n",
       "      <td>60.0</td>\n",
       "      <td>15.3</td>\n",
       "      <td>4.0</td>\n",
       "      <td>1.8</td>\n",
       "      <td>0.230698</td>\n",
       "      <td>0.712697</td>\n",
       "      <td>2</td>\n",
       "    </tr>\n",
       "    <tr>\n",
       "      <th>2</th>\n",
       "      <td>二世古 純米酒</td>\n",
       "      <td>純米酒</td>\n",
       "      <td>55.0</td>\n",
       "      <td>15.5</td>\n",
       "      <td>3.0</td>\n",
       "      <td>1.4</td>\n",
       "      <td>0.067416</td>\n",
       "      <td>-0.265431</td>\n",
       "      <td>0</td>\n",
       "    </tr>\n",
       "    <tr>\n",
       "      <th>3</th>\n",
       "      <td>柴田 純米吟醸</td>\n",
       "      <td>純米吟醸</td>\n",
       "      <td>55.0</td>\n",
       "      <td>15.5</td>\n",
       "      <td>4.0</td>\n",
       "      <td>1.2</td>\n",
       "      <td>0.230698</td>\n",
       "      <td>-0.754494</td>\n",
       "      <td>0</td>\n",
       "    </tr>\n",
       "    <tr>\n",
       "      <th>4</th>\n",
       "      <td>柴田 からくち 純米</td>\n",
       "      <td>純米酒</td>\n",
       "      <td>65.0</td>\n",
       "      <td>15.5</td>\n",
       "      <td>6.0</td>\n",
       "      <td>1.3</td>\n",
       "      <td>0.557263</td>\n",
       "      <td>-0.509963</td>\n",
       "      <td>0</td>\n",
       "    </tr>\n",
       "    <tr>\n",
       "      <th>5</th>\n",
       "      <td>柴田 からくち 本醸造</td>\n",
       "      <td>本醸造</td>\n",
       "      <td>70.0</td>\n",
       "      <td>15.5</td>\n",
       "      <td>7.0</td>\n",
       "      <td>1.2</td>\n",
       "      <td>0.720546</td>\n",
       "      <td>-0.754494</td>\n",
       "      <td>0</td>\n",
       "    </tr>\n",
       "    <tr>\n",
       "      <th>6</th>\n",
       "      <td>千歳鶴 吉翔</td>\n",
       "      <td>大吟醸</td>\n",
       "      <td>40.0</td>\n",
       "      <td>16.5</td>\n",
       "      <td>6.0</td>\n",
       "      <td>1.1</td>\n",
       "      <td>0.557263</td>\n",
       "      <td>-0.999026</td>\n",
       "      <td>0</td>\n",
       "    </tr>\n",
       "    <tr>\n",
       "      <th>7</th>\n",
       "      <td>千歳鶴 柴田與次右衛門</td>\n",
       "      <td>純米吟醸</td>\n",
       "      <td>55.0</td>\n",
       "      <td>14.5</td>\n",
       "      <td>4.0</td>\n",
       "      <td>1.2</td>\n",
       "      <td>0.230698</td>\n",
       "      <td>-0.754494</td>\n",
       "      <td>0</td>\n",
       "    </tr>\n",
       "    <tr>\n",
       "      <th>8</th>\n",
       "      <td>千歳鶴 芳翔</td>\n",
       "      <td>吟醸</td>\n",
       "      <td>55.0</td>\n",
       "      <td>15.5</td>\n",
       "      <td>4.0</td>\n",
       "      <td>1.2</td>\n",
       "      <td>0.230698</td>\n",
       "      <td>-0.754494</td>\n",
       "      <td>0</td>\n",
       "    </tr>\n",
       "    <tr>\n",
       "      <th>9</th>\n",
       "      <td>千歳鶴 雪原の舞</td>\n",
       "      <td>大吟醸</td>\n",
       "      <td>40.0</td>\n",
       "      <td>15.5</td>\n",
       "      <td>5.0</td>\n",
       "      <td>1.2</td>\n",
       "      <td>0.393981</td>\n",
       "      <td>-0.754494</td>\n",
       "      <td>0</td>\n",
       "    </tr>\n",
       "  </tbody>\n",
       "</table>\n",
       "</div>"
      ],
      "text/plain": [
       "      sakename syurui  seimaibuai  alcohol  nihonsyudo  sando  s_nihonsyudo  \\\n",
       "0   京極 名水 純米造り    純米酒        55.0     15.5         3.0    1.4      0.067416   \n",
       "1    京極 名水 本造り    本醸造        60.0     15.3         4.0    1.8      0.230698   \n",
       "2      二世古 純米酒    純米酒        55.0     15.5         3.0    1.4      0.067416   \n",
       "3      柴田 純米吟醸   純米吟醸        55.0     15.5         4.0    1.2      0.230698   \n",
       "4   柴田 からくち 純米    純米酒        65.0     15.5         6.0    1.3      0.557263   \n",
       "5  柴田 からくち 本醸造    本醸造        70.0     15.5         7.0    1.2      0.720546   \n",
       "6       千歳鶴 吉翔    大吟醸        40.0     16.5         6.0    1.1      0.557263   \n",
       "7  千歳鶴 柴田與次右衛門   純米吟醸        55.0     14.5         4.0    1.2      0.230698   \n",
       "8       千歳鶴 芳翔     吟醸        55.0     15.5         4.0    1.2      0.230698   \n",
       "9     千歳鶴 雪原の舞    大吟醸        40.0     15.5         5.0    1.2      0.393981   \n",
       "\n",
       "    s_sando  cluster  \n",
       "0 -0.265431        0  \n",
       "1  0.712697        2  \n",
       "2 -0.265431        0  \n",
       "3 -0.754494        0  \n",
       "4 -0.509963        0  \n",
       "5 -0.754494        0  \n",
       "6 -0.999026        0  \n",
       "7 -0.754494        0  \n",
       "8 -0.754494        0  \n",
       "9 -0.754494        0  "
      ]
     },
     "execution_count": 100,
     "metadata": {},
     "output_type": "execute_result"
    }
   ],
   "source": [
    "sd4.head(10)"
   ]
  },
  {
   "cell_type": "code",
   "execution_count": 101,
   "metadata": {
    "collapsed": true
   },
   "outputs": [],
   "source": [
    "df_sct = []"
   ]
  },
  {
   "cell_type": "markdown",
   "metadata": {},
   "source": [
    "# 4クラスタを4色に色分けする"
   ]
  },
  {
   "cell_type": "code",
   "execution_count": 102,
   "metadata": {
    "collapsed": true
   },
   "outputs": [],
   "source": [
    "color_list = ['r','b','g','y']"
   ]
  },
  {
   "cell_type": "code",
   "execution_count": 103,
   "metadata": {
    "collapsed": true
   },
   "outputs": [],
   "source": [
    "for i in [0,1,2,3]:\n",
    "    df_sct.append(sd4[sd4['cluster']==i])"
   ]
  },
  {
   "cell_type": "code",
   "execution_count": 104,
   "metadata": {},
   "outputs": [
    {
     "data": {
      "text/plain": [
       "<matplotlib.figure.Figure at 0x11dbbd550>"
      ]
     },
     "metadata": {},
     "output_type": "display_data"
    }
   ],
   "source": [
    "fig = plt.figure()"
   ]
  },
  {
   "cell_type": "code",
   "execution_count": 105,
   "metadata": {},
   "outputs": [],
   "source": [
    "ax = fig.add_subplot(1,1,1)"
   ]
  },
  {
   "cell_type": "code",
   "execution_count": 106,
   "metadata": {},
   "outputs": [
    {
     "data": {
      "text/plain": [
       "<matplotlib.text.Text at 0x11d6c2828>"
      ]
     },
     "execution_count": 106,
     "metadata": {},
     "output_type": "execute_result"
    },
    {
     "data": {
      "image/png": "[encoded data removed]",
      "text/plain": [
       "<matplotlib.figure.Figure at 0x11d7933c8>"
      ]
     },
     "metadata": {},
     "output_type": "display_data"
    }
   ],
   "source": [
    "for df_tmp,color in zip(df_sct,color_list):\n",
    "    plt.scatter(x=df_tmp.iloc[:,-5],y=df_tmp.iloc[:,-4])\n",
    "    \n",
    "plt.xlabel(\"nihonsyudo\")\n",
    "plt.ylabel(\"sando\")"
   ]
  },
  {
   "cell_type": "code",
   "execution_count": 107,
   "metadata": {
    "collapsed": true
   },
   "outputs": [],
   "source": [
    "cluster0 = sd4[sd4['cluster']==0]\n",
    "cluster1 = sd4[sd4['cluster']==1]\n",
    "cluster2 = sd4[sd4['cluster']==2]\n",
    "cluster3 = sd4[sd4['cluster']==3]"
   ]
  },
  {
   "cell_type": "markdown",
   "metadata": {},
   "source": [
    "## クラスタ0の分析"
   ]
  },
  {
   "cell_type": "code",
   "execution_count": 118,
   "metadata": {},
   "outputs": [
    {
     "data": {
      "text/plain": [
       "0              京極 名水 純米造り\n",
       "2                 二世古 純米酒\n",
       "3                 柴田 純米吟醸\n",
       "4              柴田 からくち 純米\n",
       "5             柴田 からくち 本醸造\n",
       "6                  千歳鶴 吉翔\n",
       "7             千歳鶴 柴田與次右衛門\n",
       "8                  千歳鶴 芳翔\n",
       "9                千歳鶴 雪原の舞\n",
       "10               北の錦 三年古酒\n",
       "12              北の錦 北海278\n",
       "13          雪氷室 一夜雫 大吟醸原酒\n",
       "14          雪氷室 一夜雫 大吟醸清酒\n",
       "15               国士無双 大吟醸\n",
       "16                 国士無双 烈\n",
       "17                  金滴 徳富\n",
       "18                金滴 微笑一献\n",
       "19                 国稀 大吟醸\n",
       "20                国稀 吟醸原酒\n",
       "21                 国稀 吟醸酒\n",
       "22           国稀 吟醸酒 雪のかおり\n",
       "24           国稀 本醸造 暑寒おろし\n",
       "26             国稀 北海 鬼ころし\n",
       "27                 国稀 本醸造\n",
       "28          国稀 本醸造 建築物ラベル\n",
       "29                  国稀 上撰\n",
       "30                大雪乃蔵 鳳雪\n",
       "31                大雪乃蔵 純米\n",
       "32               大雪乃蔵 本醸造\n",
       "33                大雪乃蔵 絹雪\n",
       "              ...        \n",
       "4308            香露 特撰 本醸造\n",
       "4309            香露 上撰 本醸造\n",
       "4310            香露 くまもとの酒\n",
       "4311             朱盃 純米大吟醸\n",
       "4312        朱盃 特別純米酒 黒ラベル\n",
       "4313               朱盃 純米酒\n",
       "4314             泰斗 特別本醸造\n",
       "4315        千代の園 大吟醸 エクセル\n",
       "4316         千代の園 吟醸 熊本神力\n",
       "4318          千代の園 純米酒 朱盃\n",
       "4319          千代の園 限定 蔵出し\n",
       "4321    Soigner Rose 純米吟醸\n",
       "4322         Soigner 純米吟醸\n",
       "4323               通潤 大吟醸\n",
       "4327        崇薫 純米吟醸酒 吟のさと\n",
       "4328         崇薫 純米吟醸酒 山田錦\n",
       "4330           瑞鷹 大吟醸 雫取り\n",
       "4331           瑞鷹 純米大吟醸 金\n",
       "4332           瑞鷹 大吟醸 槽搾り\n",
       "4333           瑞鷹 純米大吟醸 銀\n",
       "4334                瑞鷹 夏酒\n",
       "4335           瑞鷹 純米酒 熊本城\n",
       "4336              瑞鷹 吉祥瑞鷹\n",
       "4337            瑞鷹 純米にごり酒\n",
       "4338                瑞鷹 特撰\n",
       "4339            瑞鷹 芳醇 純米酒\n",
       "4340              瑞鷹 華ばしり\n",
       "4341               瑞鷹 超辛口\n",
       "4343           れいざん 吟醸酒 山\n",
       "4345             れいざん 本醸造\n",
       "Name: sakename, Length: 2868, dtype: object"
      ]
     },
     "execution_count": 118,
     "metadata": {},
     "output_type": "execute_result"
    }
   ],
   "source": [
    "cluster0.sakename"
   ]
  },
  {
   "cell_type": "code",
   "execution_count": 124,
   "metadata": {},
   "outputs": [
    {
     "name": "stdout",
     "output_type": "stream",
     "text": [
      "すもも\tスモモ\tすもも\t名詞-一般\t\t\n",
      "も\tモ\tも\t助詞-係助詞\t\t\n",
      "もも\tモモ\tもも\t名詞-一般\t\t\n",
      "も\tモ\tも\t助詞-係助詞\t\t\n",
      "もも\tモモ\tもも\t名詞-一般\t\t\n",
      "の\tノ\tの\t助詞-連体化\t\t\n",
      "うち\tウチ\tうち\t名詞-非自立-副詞可能\t\t\n",
      "EOS\n",
      "\n"
     ]
    }
   ],
   "source": [
    "m = MeCab.Tagger (\"-Ochasen\")\n",
    "print (m.parse(\"すもももももももものうち\"))"
   ]
  },
  {
   "cell_type": "code",
   "execution_count": 74,
   "metadata": {},
   "outputs": [
    {
     "data": {
      "text/plain": [
       "大吟醸                   553\n",
       "純米吟醸                  498\n",
       "純米大吟醸                 344\n",
       "本醸造                   310\n",
       "純米酒                   298\n",
       "特別純米酒                 149\n",
       "吟醸                    131\n",
       "普通酒                   125\n",
       "特別本醸造                 109\n",
       "吟醸酒                   102\n",
       "大吟醸 原酒                 26\n",
       "純米吟醸 無濾過 生原酒           20\n",
       "大吟醸原酒                  17\n",
       "純米                     16\n",
       "原酒                     14\n",
       "にごり酒                   13\n",
       "純米吟醸原酒                 13\n",
       "特別純米                   12\n",
       "純米吟醸 生酒                12\n",
       "大吟醸古酒                  12\n",
       "本醸造 生貯蔵酒               12\n",
       "純米吟醸酒                  11\n",
       "純米吟醸 生原酒               10\n",
       "純米大吟醸 原酒               10\n",
       "大吟醸 古酒                  8\n",
       "純米吟醸 原酒                 8\n",
       "純米大吟醸 無濾過 生原酒           7\n",
       "純米大吟醸 生原酒               7\n",
       "生貯蔵酒                    7\n",
       "吟醸原酒                    7\n",
       "                     ... \n",
       "大吟醸純米酒                  1\n",
       "純米吟醸にごり酒                1\n",
       "純米吟醸 吊雫原酒               1\n",
       "三年熟成純米大吟醸               1\n",
       "特別本醸造（吟醸酒を25%ブレンド）      1\n",
       "純米吟醸 無ろ過 生原酒            1\n",
       "純米吟醸生貯蔵酒                1\n",
       "掛米：50%、麹米：50%           1\n",
       "大吟醸生原酒                  1\n",
       "柱造り                     1\n",
       "原酒 生酒                   1\n",
       "純米大吟醸 無濾過 袋取り           1\n",
       "特別純米原酒                  1\n",
       "吟醸 古酒                   1\n",
       "本醸造 山廃仕込                1\n",
       "純米大吟醸 うすにごり             1\n",
       "山廃 純米大吟醸                1\n",
       "大吟醸 低温熟成                1\n",
       "純米酒 原酒                  1\n",
       "純米大吟醸 無濾過 本生            1\n",
       "無濾過 特別純米酒               1\n",
       "純米大吟醸（山廃仕込）             1\n",
       "純米大吟醸 無濾過 原酒 生詰         1\n",
       "純米吟醸 無濾過 生酒 うすにごり       1\n",
       "純米大吟醸 にごり酒              1\n",
       "純米吟釀                    1\n",
       "純米大吟醸 斗瓶取               1\n",
       "しぼりたて 生 原酒              1\n",
       "長期熟成大吟醸酒                1\n",
       "大吟醸 5年貯蔵古酒              1\n",
       "Name: syurui, Length: 349, dtype: int64"
      ]
     },
     "execution_count": 74,
     "metadata": {},
     "output_type": "execute_result"
    }
   ],
   "source": [
    "cluster0.syurui.value_counts()"
   ]
  },
  {
   "cell_type": "code",
   "execution_count": 108,
   "metadata": {},
   "outputs": [
    {
     "data": {
      "text/plain": [
       "51.249651324965136"
      ]
     },
     "execution_count": 108,
     "metadata": {},
     "output_type": "execute_result"
    }
   ],
   "source": [
    "cluster0.mean()['seimaibuai'] "
   ]
  },
  {
   "cell_type": "code",
   "execution_count": 109,
   "metadata": {},
   "outputs": [
    {
     "data": {
      "text/plain": [
       "15.961907252440753"
      ]
     },
     "execution_count": 109,
     "metadata": {},
     "output_type": "execute_result"
    }
   ],
   "source": [
    "cluster0.mean()['alcohol'] "
   ]
  },
  {
   "cell_type": "markdown",
   "metadata": {},
   "source": [
    "## クラスタ1の分析"
   ]
  },
  {
   "cell_type": "code",
   "execution_count": 119,
   "metadata": {},
   "outputs": [
    {
     "data": {
      "text/plain": [
       "69                        三戸のどんべり 純米にごり酒\n",
       "93                            陸奥八仙 どぶろっく\n",
       "199        あさ開 SILVER MOON -TEN YEARS IT\n",
       "240                             雪っこ 活性原酒\n",
       "285                        南部美人 All Koji\n",
       "584                    天上夢幻 純米吟醸 濁酒 カメ入り\n",
       "892                          出羽ノ雪 貴醸酒 醴酒\n",
       "1086                         自然酒（福島県） 特撰\n",
       "1087                       自然酒（福島県） 生しぼり\n",
       "1089                              金寶 穂の歌\n",
       "1106             奥の松 純米大吟醸 プレミアム スパークリング\n",
       "1108                        奥の松 純米大吟醸 FN\n",
       "1134                   奥の松 純米大吟醸 スパークリング\n",
       "1178                             末廣 にごり酒\n",
       "1185                        末廣 微発泡酒 ぷちぷち\n",
       "1200                   弥右衛門 カスモチ原酒 弥右衛門酒\n",
       "1330                            旭興 貴醸酒 百\n",
       "1355                    華囲香 特別純米酒 桃色にごり酒\n",
       "1606                        秩父錦 荒しぼり 濁り酒\n",
       "1655                          東魁盛 夏 純米吟醸\n",
       "1827                    ゆきくら スパークリング大吟醸酒\n",
       "1929                          八海山 発泡にごり酒\n",
       "1936                             八海山 貴醸酒\n",
       "1943                           越 純米吟醸 柔口\n",
       "1951                          雪原の灯 純米にごり\n",
       "1963              北雪 大吟醸 海洋深層水仕込 Bon Mer\n",
       "1996                              王紋 かれん\n",
       "2051          ソガ ペール エ フィス シュトゥルム ミヤマニシキ\n",
       "2059       Kawanakajima-Fuwarin 純米吟醸 活性酒\n",
       "2060    KAWANAKAJIMA silky white 純米 にごり酒\n",
       "2061                         川中島 純米 にごり酒\n",
       "2064                             渓流 どむろく\n",
       "2082                         千曲錦 藤村のにごり酒\n",
       "2089                       帰山 参番 純米吟醸 古酒\n",
       "2090                       帰山 参番 純米吟醸 生酒\n",
       "2092                          帰山 参番 純米吟醸\n",
       "2192                              麗人 紅麗花\n",
       "2198                          麗人 純米 にごり酒\n",
       "2237                     北安大國 純米原酒 五割麹仕込\n",
       "2238                      北安大國 蔵づくり どぶろく\n",
       "2292                              萌 純米吟醸\n",
       "2509                            北の庄 にごり酒\n",
       "2586                          花垣 純米 にごり酒\n",
       "2773                                開 純米\n",
       "2774                             開 純米 濁り\n",
       "2900                          ねのひ 純米 にごり\n",
       "3174                               金鼓 濁酒\n",
       "3287                          花巴 水もと 純米酒\n",
       "3394                         大関 超特撰 十段仕込\n",
       "3422                             名刀正宗 乙天\n",
       "3602                            菱正宗 にごり酒\n",
       "3633                             微紅 Biko\n",
       "3810                       金冠黒松 純米酒 にごり酒\n",
       "3941                       千代の亀 お父さんの密造酒\n",
       "3993                          桜うづまき 伊予の国\n",
       "3998                          桜うづまき にごり酒\n",
       "4210                            松浦一 にごり酒\n",
       "4254                             龍梅 にごり酒\n",
       "4265                         薫長 生 にごり 原酒\n",
       "Name: sakename, dtype: object"
      ]
     },
     "execution_count": 119,
     "metadata": {},
     "output_type": "execute_result"
    }
   ],
   "source": [
    "cluster1.sakename"
   ]
  },
  {
   "cell_type": "code",
   "execution_count": 76,
   "metadata": {},
   "outputs": [
    {
     "data": {
      "text/plain": [
       "純米吟醸                  10\n",
       "にごり酒                   9\n",
       "純米酒                    6\n",
       "純米 にごり酒                4\n",
       "特別純米酒                  3\n",
       "本醸造                    3\n",
       "原酒                     2\n",
       "純米酒 にごり酒               2\n",
       "にごり酒 原酒                2\n",
       "貴醸酒                    2\n",
       "純米酒 原酒                 2\n",
       "微発泡酒                   2\n",
       "純米大吟醸 スパークリング          2\n",
       "大吟醸                    1\n",
       "純米 無濾過 生原酒             1\n",
       "特別純米酒 無濾過 生原酒          1\n",
       "純米                     1\n",
       "活性原酒                   1\n",
       "純米吟醸 古酒                1\n",
       "純米 活性にごり               1\n",
       "どぶろく                   1\n",
       "純米吟醸 生酒                1\n",
       "伝承水酛仕込み どぶろく           1\n",
       "本醸造 にごり酒               1\n",
       "純米酒 無濾過 生原酒            1\n",
       "純米吟醸酒                  1\n",
       "本醸造 原酒                 1\n",
       "にごり酒 発泡清酒              1\n",
       "生 にごり酒 原酒              1\n",
       "普通酒（にごり酒）              1\n",
       "発泡性 純米にごり              1\n",
       "純米吟醸 原酒                1\n",
       "にごり酒 普通酒               1\n",
       "純米生原酒                  1\n",
       "純米吟醸 低温長期発酵            1\n",
       "全麹純米酒                  1\n",
       "純米 にごり酒                1\n",
       "にごり酒 活性清酒              1\n",
       "純米酒 生酒                 1\n",
       "特別純米にごり酒               1\n",
       "純米古酒                   1\n",
       "微発泡 純米吟醸 にごり原酒         1\n",
       "発砲大吟醸                  1\n",
       "活性にごり酒                 1\n",
       "純米大吟醸                  1\n",
       "長期熟成古酒                 1\n",
       "古酒                     1\n",
       "にごり生酒                  1\n",
       "生原酒                    1\n",
       "原酒 熟成酒                 1\n",
       "純米 生 原酒                1\n",
       "活性清酒                   1\n",
       "発泡 にごり酒                1\n",
       "純米大吟醸 無濾過 原酒 火入れ       1\n",
       "純米吟醸 活性酒               1\n",
       "シャンペン製法大吟醸             1\n",
       "純米酒（スパークリングライスワイン）     1\n",
       "純米吟醸うすにごり              1\n",
       "Name: syurui, dtype: int64"
      ]
     },
     "execution_count": 76,
     "metadata": {},
     "output_type": "execute_result"
    }
   ],
   "source": [
    "cluster1.syurui.value_counts()"
   ]
  },
  {
   "cell_type": "code",
   "execution_count": 110,
   "metadata": {},
   "outputs": [
    {
     "data": {
      "text/plain": [
       "61.762711864406782"
      ]
     },
     "execution_count": 110,
     "metadata": {},
     "output_type": "execute_result"
    }
   ],
   "source": [
    "cluster1.mean()['seimaibuai'] "
   ]
  },
  {
   "cell_type": "code",
   "execution_count": 111,
   "metadata": {},
   "outputs": [
    {
     "data": {
      "text/plain": [
       "15.961907252440753"
      ]
     },
     "execution_count": 111,
     "metadata": {},
     "output_type": "execute_result"
    }
   ],
   "source": [
    "cluster0.mean()['alcohol'] "
   ]
  },
  {
   "cell_type": "markdown",
   "metadata": {},
   "source": [
    "## クラスタ2の分析"
   ]
  },
  {
   "cell_type": "code",
   "execution_count": 120,
   "metadata": {},
   "outputs": [
    {
     "data": {
      "text/plain": [
       "1                    京極 名水 本造り\n",
       "11                     北の錦 まる田\n",
       "23                    国稀 特別純米酒\n",
       "25                  国稀 北海 にごり酒\n",
       "40         北の誉 純米大吟醸酒 鰊御殿 夏季限定\n",
       "41         北の誉 季節限定 特別純米 ひやおろし\n",
       "46                   北の誉 純米 心白\n",
       "48          北の誉 ほしのゆめ100%使用 純米\n",
       "55          男山（北海道） 特別純米 ひやおろし\n",
       "56               男山（北海道） 生酛 純米\n",
       "57                 男山（北海道） 御免酒\n",
       "72                八鶴 純米大吟醸 華想い\n",
       "74                     八鶴 純米吟醸\n",
       "75                    八鶴 SAKE8\n",
       "76           八鶴 純米吟醸 無ろ過生 はちつる\n",
       "77              八鶴 濃醇超辛 純米酒 剛酒\n",
       "78                      八鶴 純米酒\n",
       "82                   陸奥田心 純米吟醸\n",
       "84              陸奥八仙 純米吟醸 黒ラベル\n",
       "85                   陸奥八仙 芳醇超辛\n",
       "87             陸奥八仙 特別純米酒 赤ラベル\n",
       "88      陸奥八仙  吟醸 あらばしり シルバーラベル\n",
       "89             陸奥八仙 特別純米酒 青ラベル\n",
       "90       陸奥八仙 特別純米酒 ひやおろし 緑ラベル\n",
       "92          陸奥八仙 特別純米酒 いさり火ラベル\n",
       "95               陸奥男山 超辛純米 裏男山\n",
       "96                    陸奥男山 生一本\n",
       "100           鳩正宗 純米大吟醸 山田錦 48\n",
       "101        鳩正宗 Crystal of snow\n",
       "107                    亀吉 純米吟醸\n",
       "                 ...          \n",
       "4226                智恵美人 純米大吟醸\n",
       "4227             智恵美人 大吟醸 秋田酵母\n",
       "4228                 智恵美人 純米吟醸\n",
       "4233                  西の関 美吟純米\n",
       "4237                 一の井手 純米吟醸\n",
       "4238                 一の井手 特別純米\n",
       "4239                   一の井手 純米\n",
       "4240                  一の井手 本醸造\n",
       "4241                   一の井手 上撰\n",
       "4244                   なごり雪 吟醸\n",
       "4259                   薫長 純米吟醸\n",
       "4261                   薫長 特別純米\n",
       "4262                    薫長 花月川\n",
       "4273                千羽鶴 純米酒 沢水\n",
       "4274              千羽鶴 純米酒 一粒万倍\n",
       "4277                 佐伯飛翔 純米吟醸\n",
       "4278                  佐伯飛翔 本醸造\n",
       "4295              鷹来屋 特別純米酒 山廃\n",
       "4305                   香露 純米吟醸\n",
       "4307                  香露 特別純米酒\n",
       "4317        千代の園 吟醸 あらばしり にごり生\n",
       "4320                   蛍丸 純米吟醸\n",
       "4324                      通潤 蝉\n",
       "4325                   通潤 平家伝説\n",
       "4326                    通潤 純米酒\n",
       "4329                    菜々 純米酒\n",
       "4342                  れいざん 大吟醸\n",
       "4344                  れいざん 純米酒\n",
       "4346                薩州正宗 純米吟醸酒\n",
       "4347                  薩州正宗 純米酒\n",
       "Name: sakename, Length: 1397, dtype: object"
      ]
     },
     "execution_count": 120,
     "metadata": {},
     "output_type": "execute_result"
    }
   ],
   "source": [
    "cluster2.sakename"
   ]
  },
  {
   "cell_type": "code",
   "execution_count": 77,
   "metadata": {},
   "outputs": [
    {
     "data": {
      "text/plain": [
       "純米酒                   294\n",
       "純米吟醸                  288\n",
       "特別純米酒                 127\n",
       "純米大吟醸                 106\n",
       "本醸造                    55\n",
       "純米吟醸 原酒                27\n",
       "純米吟醸 無濾過 生原酒           26\n",
       "大吟醸                    22\n",
       "吟醸                     17\n",
       "純米酒 原酒                 16\n",
       "普通酒                    15\n",
       "純米生原酒                  12\n",
       "純米                     11\n",
       "山廃 純米酒                 10\n",
       "吟醸酒                    10\n",
       "山廃純米酒                  10\n",
       "山廃純米                    9\n",
       "山廃 純米吟醸                 9\n",
       "純米大吟醸 無濾過 生原酒           9\n",
       "純米吟醸 生原酒                9\n",
       "純米酒 無濾過 生原酒             8\n",
       "純米吟醸生原酒                 8\n",
       "純米原酒                    8\n",
       "純米酒 ひやおろし               8\n",
       "特別本醸造                   7\n",
       "純米大吟醸 生原酒               6\n",
       "純米酒 生原酒                 6\n",
       "純米 無濾過 生原酒              6\n",
       "純米吟醸原酒                  6\n",
       "純米吟醸 中取り 無濾過 生原酒        5\n",
       "                     ... \n",
       "山廃純米 十年古酒               1\n",
       "純米大吟醸 無濾過生酒             1\n",
       "にごり酒活性原酒                1\n",
       "純米吟醸 長期貯蔵酒              1\n",
       "純米発砲にごり酒                1\n",
       "特別純米生原酒                 1\n",
       "純米酒 原酒 ひやおろし            1\n",
       "純米酒 槽場直汲 無濾過 生原酒        1\n",
       "全米吟醸 原酒 しぼりたて           1\n",
       "生障ﾙ純米                   1\n",
       "無濾過 うすにごり               1\n",
       "純米大吟醸熟成酒                1\n",
       "純米吟醸 中取り                1\n",
       "活性にごり生原酒                1\n",
       "発泡性純米吟醸酒                1\n",
       " 純米吟醸                   1\n",
       "山廃 純米酒 無濾過 生原酒          1\n",
       "純米にごり生酒                 1\n",
       "特別純米酒 槽場直汲 無濾過 生原酒      1\n",
       "山廃仕込 純米大吟醸              1\n",
       "吟醸 にごり 原酒               1\n",
       "特別純米 原酒                 1\n",
       "大吟醸原酒                   1\n",
       "純米吟醸 無濾過 生詰             1\n",
       "純米吟醸 原酒 ひやおろし           1\n",
       "純米吟醸 おりがらみ生             1\n",
       "山廃純米　無濾過原酒              1\n",
       "無濾過 吟醸 生原酒              1\n",
       "生酛 特別純米酒                1\n",
       "純米吟醸 中汲み                1\n",
       "Name: syurui, Length: 322, dtype: int64"
      ]
     },
     "execution_count": 77,
     "metadata": {},
     "output_type": "execute_result"
    }
   ],
   "source": [
    "cluster2.syurui.value_counts()"
   ]
  },
  {
   "cell_type": "code",
   "execution_count": 112,
   "metadata": {},
   "outputs": [
    {
     "data": {
      "text/plain": [
       "55.775948460987834"
      ]
     },
     "execution_count": 112,
     "metadata": {},
     "output_type": "execute_result"
    }
   ],
   "source": [
    "cluster2.mean()['seimaibuai'] "
   ]
  },
  {
   "cell_type": "code",
   "execution_count": 113,
   "metadata": {},
   "outputs": [
    {
     "data": {
      "text/plain": [
       "16.41794559770937"
      ]
     },
     "execution_count": 113,
     "metadata": {},
     "output_type": "execute_result"
    }
   ],
   "source": [
    "cluster2.mean()['alcohol'] "
   ]
  },
  {
   "cell_type": "markdown",
   "metadata": {},
   "source": [
    "## クラスタ3の分析"
   ]
  },
  {
   "cell_type": "code",
   "execution_count": 121,
   "metadata": {},
   "outputs": [
    {
     "data": {
      "text/plain": [
       "62             男山（北海道） 復古酒\n",
       "68            三戸のどんべり 初恋風味\n",
       "418     ラシャンテ スパークリング 発泡清酒\n",
       "639                  米米酒  \n",
       "642             あ、不思議なお酒  \n",
       "643               ひめぜん 純米酒\n",
       "1392           松の寿 貴醸酒 山田錦\n",
       "1614             むすひ 発芽玄米酒\n",
       "1644               木戸泉 AFS\n",
       "1645             木戸泉 純米AFS\n",
       "2074    Riz Vin スパーク・リ・ヴァン\n",
       "2202            真澄 スパークリング\n",
       "2899             ねのひ なないろ桜\n",
       "3455            明石鯛 玄米 山田錦\n",
       "3468               富久錦 Ｆｕ．\n",
       "3646      華鳩 貴醸酒 10年熟成 大古酒\n",
       "3647         華鳩 貴醸酒 オーク樽貯蔵\n",
       "3648              華鳩 貴醸酒 醞\n",
       "3649        華鳩 貴醸酒 NOUVEAU\n",
       "3653          音戸の瀬戸 船唄に寄せて\n",
       "3803          金冠黒松 貴醸酒 黒松錦\n",
       "3985              梅錦 四季香麗水\n",
       "3990              桜うづまき 元禄\n",
       "4257               MOMO もも\n",
       "Name: sakename, dtype: object"
      ]
     },
     "execution_count": 121,
     "metadata": {},
     "output_type": "execute_result"
    }
   ],
   "source": [
    "cluster3.sakename"
   ]
  },
  {
   "cell_type": "code",
   "execution_count": 78,
   "metadata": {},
   "outputs": [
    {
     "data": {
      "text/plain": [
       "純米酒               5\n",
       "貴醸酒               4\n",
       "古酒                3\n",
       "雑酒                2\n",
       "一段仕込み多酸古酒         1\n",
       "発泡清酒              1\n",
       "純米吟醸              1\n",
       "発芽玄米酒             1\n",
       "一段仕込み多酸酒          1\n",
       "辛口本醸造             1\n",
       "壜内二次発酵 スパークリング    1\n",
       "純米酒 にごり酒          1\n",
       "原酒 二年熟成           1\n",
       "純米 にごり酒           1\n",
       "純米原酒              1\n",
       "微発泡 にごり酒          1\n",
       "普通酒               1\n",
       "古代酒               1\n",
       "発泡純米酒             1\n",
       "Name: syurui, dtype: int64"
      ]
     },
     "execution_count": 78,
     "metadata": {},
     "output_type": "execute_result"
    }
   ],
   "source": [
    "cluster3.syurui.value_counts()"
   ]
  },
  {
   "cell_type": "code",
   "execution_count": 116,
   "metadata": {},
   "outputs": [
    {
     "data": {
      "text/plain": [
       "66.333333333333329"
      ]
     },
     "execution_count": 116,
     "metadata": {},
     "output_type": "execute_result"
    }
   ],
   "source": [
    "cluster3.mean()['seimaibuai'] "
   ]
  },
  {
   "cell_type": "code",
   "execution_count": 117,
   "metadata": {},
   "outputs": [
    {
     "data": {
      "text/plain": [
       "12.425000000000002"
      ]
     },
     "execution_count": 117,
     "metadata": {},
     "output_type": "execute_result"
    }
   ],
   "source": [
    "cluster3.mean()['alcohol'] "
   ]
  }
 ],
 "metadata": {
  "kernelspec": {
   "display_name": "Python 3",
   "language": "python",
   "name": "python3"
  },
  "language_info": {
   "codemirror_mode": {
    "name": "ipython",
    "version": 3
   },
   "file_extension": ".py",
   "mimetype": "text/x-python",
   "name": "python",
   "nbconvert_exporter": "python",
   "pygments_lexer": "ipython3",
   "version": "3.6.2"
  }
 },
 "nbformat": 4,
 "nbformat_minor": 2
}

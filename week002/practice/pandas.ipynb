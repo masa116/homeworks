{
 "cells": [
  {
   "cell_type": "markdown",
   "metadata": {},
   "source": [
    "# pandas tutorial"
   ]
  },
  {
   "cell_type": "markdown",
   "metadata": {},
   "source": [
    "### tutorial 1 - Import"
   ]
  },
  {
   "cell_type": "code",
   "execution_count": 1,
   "metadata": {
    "collapsed": true
   },
   "outputs": [],
   "source": [
    "import pandas as pd"
   ]
  },
  {
   "cell_type": "markdown",
   "metadata": {
    "collapsed": true
   },
   "source": [
    "### tutorial 2 - About DataFrame\n",
    "以下の表を作成\n",
    "\n",
    "|   | 0 | 1 | 2 |\n",
    "|---|---|---|---|\n",
    "| 0 | 1 | 2 | 3 |\n",
    "| 1 | 4 | 5 | 6 |"
   ]
  },
  {
   "cell_type": "code",
   "execution_count": 4,
   "metadata": {},
   "outputs": [
    {
     "name": "stdout",
     "output_type": "stream",
     "text": [
      "   0  1  2\n",
      "0  1  2  3\n",
      "1  4  5  6\n"
     ]
    }
   ],
   "source": [
    "df = pd.DataFrame([[1, 2, 3], [4, 5, 6]])\n",
    "print(df)"
   ]
  },
  {
   "cell_type": "markdown",
   "metadata": {},
   "source": [
    "### tutorial 3 - Python Data Format to DataFrame\n",
    " + list (ndarray) # tutorial 2\n",
    " + dict (ndarray)\n",
    "\n",
    "以下の表をlistとndarrayを使用して作成\n",
    "\n",
    "|   | a | b | c |\n",
    "|---|---|---|---|\n",
    "| 0 | 1 | 2 | 3 |\n",
    "| 1 | 4 | 5 | 6 |"
   ]
  },
  {
   "cell_type": "code",
   "execution_count": 5,
   "metadata": {},
   "outputs": [
    {
     "name": "stdout",
     "output_type": "stream",
     "text": [
      "   a  b  c\n",
      "0  1  2  3\n",
      "1  4  5  6\n"
     ]
    }
   ],
   "source": [
    "df1 = pd.DataFrame({\n",
    "    'a': [1, 4],\n",
    "    'b': [2, 5],\n",
    "    'c': [3, 6]\n",
    "})\n",
    "print(df1)"
   ]
  },
  {
   "cell_type": "code",
   "execution_count": 6,
   "metadata": {},
   "outputs": [
    {
     "name": "stdout",
     "output_type": "stream",
     "text": [
      "   a  b  c\n",
      "0  1  2  3\n",
      "1  4  5  6\n"
     ]
    }
   ],
   "source": [
    "import numpy as np\n",
    "df2 = pd.DataFrame([[1, 2, 3], [4, 5, 6]], columns=['a', 'b', 'c'])\n",
    "print(df2)"
   ]
  },
  {
   "cell_type": "markdown",
   "metadata": {},
   "source": [
    "### tutorial 4 - Check types\n",
    "turorial 3 のDataFrameの型を調べる"
   ]
  },
  {
   "cell_type": "code",
   "execution_count": 7,
   "metadata": {},
   "outputs": [
    {
     "data": {
      "text/plain": [
       "a    int64\n",
       "b    int64\n",
       "c    int64\n",
       "dtype: object"
      ]
     },
     "execution_count": 7,
     "metadata": {},
     "output_type": "execute_result"
    }
   ],
   "source": [
    "df1.dtypes"
   ]
  },
  {
   "cell_type": "markdown",
   "metadata": {},
   "source": [
    "### tutorial 5 - Convert ndarray\n",
    "turorail 3のDataFrameのデータをnumpy配列に変換する"
   ]
  },
  {
   "cell_type": "code",
   "execution_count": 8,
   "metadata": {},
   "outputs": [
    {
     "data": {
      "text/plain": [
       "array([[1, 2, 3],\n",
       "       [4, 5, 6]])"
      ]
     },
     "execution_count": 8,
     "metadata": {},
     "output_type": "execute_result"
    }
   ],
   "source": [
    "df1.values"
   ]
  },
  {
   "cell_type": "markdown",
   "metadata": {},
   "source": [
    "### tutorial 6 - DataFrame Access (col)"
   ]
  },
  {
   "cell_type": "code",
   "execution_count": 11,
   "metadata": {},
   "outputs": [
    {
     "name": "stdout",
     "output_type": "stream",
     "text": [
      "   a  b  c\n",
      "0  1  2  3\n",
      "1  4  5  6\n",
      "a列\n",
      "0    1\n",
      "1    4\n",
      "Name: a, dtype: int64\n"
     ]
    }
   ],
   "source": [
    "print(df1)\n",
    "print(\"a列\")\n",
    "print(df1['a'])"
   ]
  },
  {
   "cell_type": "markdown",
   "metadata": {
    "collapsed": true
   },
   "source": [
    "### tutorial 7 - DataFrame Access (row)"
   ]
  },
  {
   "cell_type": "code",
   "execution_count": 12,
   "metadata": {},
   "outputs": [
    {
     "name": "stdout",
     "output_type": "stream",
     "text": [
      "   a  b  c\n",
      "0  1  2  3\n",
      "1  4  5  6\n",
      "a    1\n",
      "b    2\n",
      "c    3\n",
      "Name: 0, dtype: int64\n"
     ]
    }
   ],
   "source": [
    "print(df1)\n",
    "print(df1.loc[0])"
   ]
  },
  {
   "cell_type": "markdown",
   "metadata": {},
   "source": [
    "### tutorial 8 - DataFrame Access (row & col)"
   ]
  },
  {
   "cell_type": "code",
   "execution_count": 14,
   "metadata": {},
   "outputs": [
    {
     "name": "stdout",
     "output_type": "stream",
     "text": [
      "   a  b  c\n",
      "0  1  2  3\n",
      "1  4  5  6\n",
      "1\n"
     ]
    }
   ],
   "source": [
    "print(df1)\n",
    "print(df1[\"a\"].loc[0])"
   ]
  },
  {
   "cell_type": "markdown",
   "metadata": {},
   "source": [
    "### tutorial 9 - read from CSV"
   ]
  },
  {
   "cell_type": "code",
   "execution_count": 16,
   "metadata": {},
   "outputs": [
    {
     "name": "stdout",
     "output_type": "stream",
     "text": [
      "      code   meigara          kana  kuramoto   ken      shi  \\\n",
      "0     1235        京極         きょうごく     二世古酒造   北海道      虻田郡   \n",
      "1     1234       二世古           にせこ     二世古酒造   北海道      虻田郡   \n",
      "2     1447       雪の花         ゆきのはな     雪の花酒造   北海道      小樽市   \n",
      "3     1446       小樽港         おたるこう     雪の花酒造   北海道      小樽市   \n",
      "4     2881        鬼丸          おにまる      田中酒造   北海道      小樽市   \n",
      "5     2882       飲ん米         のんべぇい      田中酒造   北海道      小樽市   \n",
      "6     2979        美苫           びせん      田中酒造   北海道      小樽市   \n",
      "7     3193    カムイトノト        かむいとのと      田中酒造   北海道      小樽市   \n",
      "8     3194       亀甲蔵        きっこうぐら      田中酒造   北海道      小樽市   \n",
      "9     3198      十勝晴れ         とかちばれ      田中酒造   北海道      小樽市   \n",
      "10    1236        宝川         たからがわ      田中酒造   北海道      小樽市   \n",
      "11    1448        北宝           NaN    山二わたなべ   北海道      小樽市   \n",
      "12    1710      小樽の女        おたるのひと    山二わたなべ   北海道      小樽市   \n",
      "13    1449      熊古露里         くまころり    山二わたなべ   北海道      小樽市   \n",
      "14    1709       雪中花        せっちゅうか    山二わたなべ   北海道      小樽市   \n",
      "15    3235       北世界         きたせかい      日本清酒   北海道      札幌市   \n",
      "16    2758        柴田           しばた      日本清酒   北海道      札幌市   \n",
      "17    2759     與次右衛門        よじうえもん      日本清酒   北海道      札幌市   \n",
      "18    2904       十一州      じゅういっしゅう      日本清酒   北海道      札幌市   \n",
      "19       5       千歳鶴         ちとせつる      日本清酒   北海道      札幌市   \n",
      "20    1892       冬花火         ふゆはなび      小林酒造   北海道      夕張郡   \n",
      "21       6       北の錦        きたのにしき      小林酒造   北海道      夕張郡   \n",
      "22    1891      北斗随想       ほくとずいそう      小林酒造   北海道      夕張郡   \n",
      "23    2804      気まぐれ          きまぐれ      高砂酒造   北海道      旭川市   \n",
      "24     150   雪氷室 一夜雫  ゆきひむろ いちやしずく      高砂酒造   北海道      旭川市   \n",
      "25    3195     ゆきわらべ         ゆきわらべ      高砂酒造   北海道      旭川市   \n",
      "26    3196       北吹雪         きたふぶき      高砂酒造   北海道      旭川市   \n",
      "27    2693        大雪          たいせつ      高砂酒造   北海道      旭川市   \n",
      "28       3      国士無双        こくしむそう      高砂酒造   北海道      旭川市   \n",
      "29       2        金滴          きんてき      金滴酒造   北海道      樺戸郡   \n",
      "...    ...       ...           ...       ...   ...      ...   \n",
      "3650   319        丹誠          たんせい      丹誠酒類   大分県    豊後大野市   \n",
      "3651   305        香露           こうろ  熊本県酒造研究所   熊本県      熊本市   \n",
      "3652  3617       産山村        うぶやまむら    千代の園酒造   熊本県      山鹿市   \n",
      "3653   307        朱盃          しゅはい    千代の園酒造   熊本県      山鹿市   \n",
      "3654  3002        泰斗           たいと    千代の園酒造   熊本県      山鹿市   \n",
      "3655   306      千代の園         ちよのその    千代の園酒造   熊本県      山鹿市   \n",
      "3656  2019       花の香          はなのか     花の香酒造   熊本県      玉名郡   \n",
      "3657  3001  HANANOKA          はなのか     花の香酒造   熊本県      玉名郡   \n",
      "3658  2622       菊の城         きくのしろ     菊の城本舗   熊本県      菊池市   \n",
      "3659   304       美少年        びしょうねん       美少年   熊本県      菊池市   \n",
      "3660  3217    蟬 SEMI            せみ      通潤酒造   熊本県     上益城郡   \n",
      "3661  2994        蛍丸         ほたるまる      通潤酒造   熊本県     上益城郡   \n",
      "3662  2995        雲雀           ひばり      通潤酒造   熊本県     上益城郡   \n",
      "3663  2996   Soigner          そわにえ      通潤酒造   熊本県     上益城郡   \n",
      "3664  2624        通潤         つうじゅん      通潤酒造   熊本県     上益城郡   \n",
      "3665  3543        崇薫          すうくん      瑞鷹酒造   熊本県      熊本市   \n",
      "3666  3544        菜々          さいさい      瑞鷹酒造   熊本県      熊本市   \n",
      "3667   303        瑞鷹          ずいよう      瑞鷹酒造   熊本県      熊本市   \n",
      "3668   308      れいざん          れいざん      山村酒造   熊本県      阿蘇郡   \n",
      "3669  2623     和田志ら露        わだしらつゆ      室原酒造   熊本県      阿蘇郡   \n",
      "3670   310        玉滴         たましずく      河津酒造   熊本県      阿蘇郡   \n",
      "3671   309        蓬莱          ほうらい      河津酒造   熊本県      阿蘇郡   \n",
      "3672  2997      しゅわり          しゅわり      亀萬酒造   熊本県      葦北郡   \n",
      "3673   311        亀萬          かめまん      亀萬酒造   熊本県      葦北郡   \n",
      "3674  1706        綾錦         あやにしき      雲海酒造   宮崎県      宮崎市   \n",
      "3675  2657        我楽           がらく      雲海酒造   宮崎県      宮崎市   \n",
      "3676   323     夢の中まで       ゆめのなかまで      千徳酒造   宮崎県      延岡市   \n",
      "3677   322        千徳          せんとく      千徳酒造   宮崎県      延岡市   \n",
      "3678  2658      薩州正宗     さっしゅうまさむね  濱田酒造 金山蔵  鹿児島県  いちき串木野市   \n",
      "3679   324        黎明          れいめい      泰石酒造   沖縄県     うるま市   \n",
      "\n",
      "                    address  \n",
      "0             北海道虻田郡倶知安町旭47  \n",
      "1             北海道虻田郡倶知安町旭47  \n",
      "2                    北海道小樽市  \n",
      "3                    北海道小樽市  \n",
      "4             北海道小樽市色内3-2-5  \n",
      "5             北海道小樽市色内3-2-5  \n",
      "6             北海道小樽市色内3-2-5  \n",
      "7             北海道小樽市色内3-2-5  \n",
      "8             北海道小樽市色内3-2-5  \n",
      "9             北海道小樽市色内3-2-5  \n",
      "10            北海道小樽市色内3-2-5  \n",
      "11                   北海道小樽市  \n",
      "12                   北海道小樽市  \n",
      "13                   北海道小樽市  \n",
      "14                   北海道小樽市  \n",
      "15         北海道札幌市中央区南三条東5-2  \n",
      "16         北海道札幌市中央区南三条東5-2  \n",
      "17         北海道札幌市中央区南三条東5-2  \n",
      "18         北海道札幌市中央区南三条東5-2  \n",
      "19         北海道札幌市中央区南三条東5-2  \n",
      "20          北海道夕張郡栗山町錦3-109  \n",
      "21          北海道夕張郡栗山町錦3-109  \n",
      "22          北海道夕張郡栗山町錦3-109  \n",
      "23              北海道旭川市宮下通17  \n",
      "24              北海道旭川市宮下通17  \n",
      "25              北海道旭川市宮下通17  \n",
      "26              北海道旭川市宮下通17  \n",
      "27              北海道旭川市宮下通17  \n",
      "28              北海道旭川市宮下通17  \n",
      "29        北海道樺戸郡新十津川町中央71-7  \n",
      "...                     ...  \n",
      "3650      大分県豊後大野市緒方町下自在519  \n",
      "3651         熊本県熊本市島崎1-7-20  \n",
      "3652           熊本県山鹿市山鹿1782  \n",
      "3653           熊本県山鹿市山鹿1782  \n",
      "3654           熊本県山鹿市山鹿1782  \n",
      "3655           熊本県山鹿市山鹿1782  \n",
      "3656     熊本県玉名郡和水町西吉地2226-2  \n",
      "3657     熊本県玉名郡和水町西吉地2226-2  \n",
      "3658             熊本県菊池市隈府95  \n",
      "3659     熊本県菊池市四町分免兎原1030番地  \n",
      "3660         熊本県上益城郡山都町浜町54  \n",
      "3661         熊本県上益城郡山都町浜町54  \n",
      "3662         熊本県上益城郡山都町浜町54  \n",
      "3663         熊本県上益城郡山都町浜町54  \n",
      "3664         熊本県上益城郡山都町浜町54  \n",
      "3665         熊本県熊本市川尻4-6-67  \n",
      "3666         熊本県熊本市川尻4-6-67  \n",
      "3667         熊本県熊本市川尻4-6-67  \n",
      "3668        熊本県阿蘇郡高森町高森1645  \n",
      "3669      熊本県阿蘇郡南小国町赤馬場1862  \n",
      "3670      熊本県阿蘇郡小国町宮原1734-2  \n",
      "3671      熊本県阿蘇郡小国町宮原1734-2  \n",
      "3672      熊本県葦北郡津奈木町津奈木1192  \n",
      "3673      熊本県葦北郡津奈木町津奈木1192  \n",
      "3674          宮崎県宮崎市昭栄町45-1  \n",
      "3675          宮崎県宮崎市昭栄町45-1  \n",
      "3676         宮崎県延岡市大瀬町2-1-8  \n",
      "3677         宮崎県延岡市大瀬町2-1-8  \n",
      "3678  鹿児島県金山蔵〒896-0073 鹿児島県  \n",
      "3679           沖縄県うるま市平良川90  \n",
      "\n",
      "[3680 rows x 7 columns]\n"
     ]
    }
   ],
   "source": [
    "df = pd.read_csv('sake.csv')\n",
    "print(df)"
   ]
  },
  {
   "cell_type": "markdown",
   "metadata": {},
   "source": [
    "### tutorial 10 - compute statistics\n",
    "\n",
    "以下の表のa,b,c列について、個数, 平均, 最小, 最大, 分散を計算する\n",
    "\n",
    "|   | a | b | c |\n",
    "|---|---|---|---|\n",
    "| 0 | 1 | 2 | 3 |\n",
    "| 1 | 4 | 5 | 6 |"
   ]
  },
  {
   "cell_type": "code",
   "execution_count": 17,
   "metadata": {},
   "outputs": [
    {
     "name": "stdout",
     "output_type": "stream",
     "text": [
      "   a  b  c\n",
      "0  1  2  3\n",
      "1  4  5  6\n",
      "             a        b        c\n",
      "count  2.00000  2.00000  2.00000\n",
      "mean   2.50000  3.50000  4.50000\n",
      "std    2.12132  2.12132  2.12132\n",
      "min    1.00000  2.00000  3.00000\n",
      "25%    1.75000  2.75000  3.75000\n",
      "50%    2.50000  3.50000  4.50000\n",
      "75%    3.25000  4.25000  5.25000\n",
      "max    4.00000  5.00000  6.00000\n"
     ]
    }
   ],
   "source": [
    "print(df1)\n",
    "describe = df1.describe()\n",
    "print(describe)"
   ]
  }
 ],
 "metadata": {
  "kernelspec": {
   "display_name": "Python 3",
   "language": "python",
   "name": "python3"
  },
  "language_info": {
   "codemirror_mode": {
    "name": "ipython",
    "version": 3
   },
   "file_extension": ".py",
   "mimetype": "text/x-python",
   "name": "python",
   "nbconvert_exporter": "python",
   "pygments_lexer": "ipython3",
   "version": "3.6.1"
  }
 },
 "nbformat": 4,
 "nbformat_minor": 2
}

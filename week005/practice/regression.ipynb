{
 "cells": [
  {
   "cell_type": "markdown",
   "metadata": {},
   "source": [
    "# WEEK 005 - Regression Analysis Tutorial (2)"
   ]
  },
  {
   "cell_type": "markdown",
   "metadata": {},
   "source": [
    "## 1. 使用ライブラリ\n",
    "まず、以下のライブラリを使うのでインポートをする\n",
    " + numpy\n",
    " + pandas\n",
    " + sklearn.metrics (評価関数)"
   ]
  },
  {
   "cell_type": "code",
   "execution_count": 1,
   "metadata": {
    "collapsed": true
   },
   "outputs": [],
   "source": [
    "import numpy as np\n",
    "import pandas as pd\n",
    "import sklearn.metrics as me"
   ]
  },
  {
   "cell_type": "markdown",
   "metadata": {},
   "source": [
    "## 2. 評価をしてみる\n",
    "前回、予測した値を評価してみる。\n",
    "評価関数はMSEを使用する。 \n",
    "<br> (hint : sklearn.metricsに主な評価関数は用意されてます) "
   ]
  },
  {
   "cell_type": "code",
   "execution_count": 40,
   "metadata": {},
   "outputs": [
    {
     "data": {
      "text/plain": [
       "514.03362309374972"
      ]
     },
     "execution_count": 40,
     "metadata": {},
     "output_type": "execute_result"
    }
   ],
   "source": [
    "# 単回帰\n",
    "p_1D = pd.read_csv('../../week004/practice/predict-1D.csv')\n",
    "me.mean_squared_error(p_1D[\"y\"], p_1D[\"y-predict\"])"
   ]
  },
  {
   "cell_type": "code",
   "execution_count": 41,
   "metadata": {},
   "outputs": [
    {
     "data": {
      "text/plain": [
       "558.51667600598557"
      ]
     },
     "execution_count": 41,
     "metadata": {},
     "output_type": "execute_result"
    }
   ],
   "source": [
    "# 重回帰\n",
    "p_6D = pd.read_csv('../../week004/practice/predict-6D.csv')\n",
    "me.mean_squared_error(p_6D[\"y\"], p_6D[\"y-predict\"])"
   ]
  },
  {
   "cell_type": "markdown",
   "metadata": {},
   "source": [
    "###### 今回は適当に説明変数を選んだこともあり、重回帰モデルで分析精度の低下が起きています。"
   ]
  },
  {
   "cell_type": "markdown",
   "metadata": {},
   "source": [
    "## 3. 評価をしてみる (評価関数自作編 1)\n",
    "MSEの評価関数を作成し、scikitlearnの結果と同じになることを確認してみよう。"
   ]
  },
  {
   "cell_type": "code",
   "execution_count": 42,
   "metadata": {},
   "outputs": [],
   "source": [
    "# 評価関数 - MSE\n",
    "def MyMSE(y, y_predict):\n",
    "    n = len(y)\n",
    "    sum = 0\n",
    "    for i in range(n):\n",
    "        sum += (y[i] - y_predict[i]) ** 2\n",
    "    return (sum / n)"
   ]
  },
  {
   "cell_type": "code",
   "execution_count": 43,
   "metadata": {},
   "outputs": [
    {
     "data": {
      "text/plain": [
       "514.03362309374961"
      ]
     },
     "execution_count": 43,
     "metadata": {},
     "output_type": "execute_result"
    }
   ],
   "source": [
    "# 単回帰\n",
    "MyMSE(p_1D[\"y\"], p_1D[\"y-predict\"])"
   ]
  },
  {
   "cell_type": "code",
   "execution_count": 44,
   "metadata": {},
   "outputs": [
    {
     "data": {
      "text/plain": [
       "558.51667600598546"
      ]
     },
     "execution_count": 44,
     "metadata": {},
     "output_type": "execute_result"
    }
   ],
   "source": [
    "# 重回帰\n",
    "MyMSE(p_6D[\"y\"], p_6D[\"y-predict\"])"
   ]
  },
  {
   "cell_type": "markdown",
   "metadata": {},
   "source": [
    "## 4. 評価をしてみる (評価関数自作編 2)\n",
    "sklearn.metricsにはRMSEはないため、RMSEの評価関数を作成し、評価をしてみよう。"
   ]
  },
  {
   "cell_type": "code",
   "execution_count": 45,
   "metadata": {},
   "outputs": [],
   "source": [
    "# 評価関数 -RMSE\n",
    "def MyRMSE(y, y_predict):\n",
    "    return np.sqrt(MyMSE(y, y_predict))"
   ]
  },
  {
   "cell_type": "code",
   "execution_count": 46,
   "metadata": {},
   "outputs": [
    {
     "data": {
      "text/plain": [
       "22.672309610927371"
      ]
     },
     "execution_count": 46,
     "metadata": {},
     "output_type": "execute_result"
    }
   ],
   "source": [
    "# 単回帰\n",
    "MyRMSE(p_1D[\"y\"], p_1D[\"y-predict\"])"
   ]
  },
  {
   "cell_type": "code",
   "execution_count": 47,
   "metadata": {},
   "outputs": [
    {
     "data": {
      "text/plain": [
       "23.632957411335244"
      ]
     },
     "execution_count": 47,
     "metadata": {},
     "output_type": "execute_result"
    }
   ],
   "source": [
    "# 重回帰\n",
    "MyRMSE(p_6D[\"y\"], p_6D[\"y-predict\"])"
   ]
  }
 ],
 "metadata": {
  "kernelspec": {
   "display_name": "Python 3",
   "language": "python",
   "name": "python3"
  },
  "language_info": {
   "codemirror_mode": {
    "name": "ipython",
    "version": 3
   },
   "file_extension": ".py",
   "mimetype": "text/x-python",
   "name": "python",
   "nbconvert_exporter": "python",
   "pygments_lexer": "ipython3",
   "version": "3.6.1"
  }
 },
 "nbformat": 4,
 "nbformat_minor": 2
}
